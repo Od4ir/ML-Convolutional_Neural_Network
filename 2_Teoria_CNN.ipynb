{
 "cells": [
  {
   "cell_type": "markdown",
   "metadata": {},
   "source": [
    "# Redes Neurais Convolucionais - Teoria II"
   ]
  },
  {
   "cell_type": "markdown",
   "metadata": {},
   "source": [
    "## CNNs com Imagens:"
   ]
  },
  {
   "cell_type": "markdown",
   "metadata": {},
   "source": [
    "### Operação de Multiplicação da Imagem x Kernel:"
   ]
  },
  {
   "cell_type": "markdown",
   "metadata": {},
   "source": [
    "Para compreender a operação que é realizada, nesse [site](https://deeplizard.com/resource/pavq7noze2) há um simulador que ilustra a operação que está sendo feita. \n"
   ]
  },
  {
   "cell_type": "markdown",
   "metadata": {},
   "source": [
    "Mas imagine que temos a entrada, dada com por uma matriz $I \\in \\mathbb{R}^{3 \\times 3}$ (Estamos desconsiderando outros possíveis canais da imagem). E temos um *kernel* que tem está em $\\mathbb{R}^{2 \\times 2}$. \n",
    "\n",
    "$$ I = \n",
    "\\begin{pmatrix}\n",
    "a & b & c \\\\\n",
    "d & e & f \\\\\n",
    "g & h & i \n",
    "\\end{pmatrix}\n",
    "kernel = \n",
    "\\begin{pmatrix}\n",
    "X & Y \\\\\n",
    "Z & W \n",
    "\\end{pmatrix}\n",
    "$$\n"
   ]
  },
  {
   "cell_type": "markdown",
   "metadata": {},
   "source": [
    "A multiplicação é basicamente:\n",
    "\n",
    "$$ I \\times kernel = OutPut\n",
    "\\newline\n",
    "\\begin{pmatrix}\n",
    "a & b & c \\\\\n",
    "d & e & f \\\\\n",
    "g & h & i \n",
    "\\end{pmatrix}\n",
    "\\times \n",
    "\\begin{pmatrix}\n",
    "X & Y \\\\\n",
    "Z & W \n",
    "\\end{pmatrix}\n",
    "= \n",
    "\\begin{pmatrix}\n",
    "a * X + b * Y + d * Z + e * W & b * X + c * Y + e * Z + f * W \\\\\n",
    "d * X + e * Y + g * Z + h * W & e * X + f * Y + h * Z + i * W\n",
    "\\end{pmatrix}\n",
    "$$\n",
    "\n",
    "A ideia é ir deslizando o kernel pela imagem multiplicando as posições correspondentes até passar o kernel por toda a imagem. "
   ]
  },
  {
   "cell_type": "markdown",
   "metadata": {},
   "source": [
    "O tamanho da saída é dado por:\n",
    "\n",
    "$$\n",
    "altura_{saida} = (altura_{entrada} - altura_{kernel} + 1)\n",
    "\\newline\n",
    "largura_{saida} = (largura_{entrada} - largura_{kernel} + 1)\n",
    "$$"
   ]
  },
  {
   "cell_type": "code",
   "execution_count": 24,
   "metadata": {},
   "outputs": [],
   "source": [
    "import torch\n",
    "\n",
    "def correlacao_cruzada(X, K):\n",
    "    h, w = K.shape\n",
    "    # Y vai ser a matriz de saída:\n",
    "    Y = torch.zeros((X.shape[0] - h + 1, X.shape[1] - w + 1))\n",
    "\n",
    "    for i in range((Y.shape[0])):\n",
    "        for j in range((Y.shape[1])):\n",
    "            Y[i, j] = (X[i:i+h, j:j+w] * K).sum()\n",
    "    return Y"
   ]
  },
  {
   "cell_type": "code",
   "execution_count": 25,
   "metadata": {},
   "outputs": [
    {
     "name": "stdout",
     "output_type": "stream",
     "text": [
      "tensor([[0., 1., 2.],\n",
      "        [3., 4., 5.],\n",
      "        [6., 7., 8.]]) \n",
      "\n",
      "tensor([[0., 1.],\n",
      "        [2., 3.]]) \n",
      "\n",
      "tensor([[19., 25.],\n",
      "        [37., 43.]])\n"
     ]
    }
   ],
   "source": [
    "X = torch.tensor([[0.0, 1.0, 2.0], [3.0, 4.0, 5.0], [6.0, 7.0, 8.0]])\n",
    "K = torch.tensor([[0.0, 1.0], [2.0, 3.0]])\n",
    "print(X, \"\\n\")\n",
    "print(K, \"\\n\")\n",
    "\n",
    "Y = correlacao_cruzada(X, K)\n",
    "print(Y)"
   ]
  },
  {
   "cell_type": "markdown",
   "metadata": {},
   "source": [
    "### Camadas de Convolução:"
   ]
  },
  {
   "cell_type": "markdown",
   "metadata": {},
   "source": [
    "Uma camada convolucional tem como parâmtros um **kernel** e um **bias**. Na camada, o **kernel** passa por toda a entrada fazendo a operação descrita anteriormente e o **bias** é adicionado ao resultado. \n",
    "\n",
    "O tamanho do **kernel** é definido por nós e seus valores são iniciados geralmente aleatoriamente. "
   ]
  },
  {
   "cell_type": "code",
   "execution_count": 26,
   "metadata": {},
   "outputs": [],
   "source": [
    "from torch import nn\n",
    "# nn é um módulo que significa 'neural networks' e dispões de uma\n",
    "# série de ferramentas que facilitam a criação de redes neurais:\n",
    "class Convolucao(nn.Module):\n",
    "    def __init__(self, kernel_size):\n",
    "        super(Convolucao, self).__init__()\n",
    "        self.vetor_pesos = nn.Parameter(torch.rand(kernel_size))\n",
    "        self.bias = nn.Parameter(torch.zeros(1))\n",
    "\n",
    "    def forward(self, X):\n",
    "        return correlacao_cruzada(X, self.vetor_pesos) + self.bias\n"
   ]
  },
  {
   "cell_type": "markdown",
   "metadata": {},
   "source": [
    "### Preenchimento da Borda:"
   ]
  },
  {
   "cell_type": "markdown",
   "metadata": {},
   "source": [
    "Como vemos, a multiplicação pelo *kernel* faz a imagem inicial perder a sua dimensão, sendo que o resultado da operação tem as seguintes dimensões:\n",
    "\n",
    "$$\n",
    "altura_{saida} = (altura_{entrada} - altura_{kernel} + 1)\n",
    "\\newline\n",
    "largura_{saida} = (largura_{entrada} - largura_{kernel} + 1)\n",
    "$$\n"
   ]
  },
  {
   "cell_type": "markdown",
   "metadata": {},
   "source": [
    "Para contornar esse problema, uma possível solução é aumentar a dimensão da imagem inicial preenchendo esse aumento com valores nulos. Exemplo:"
   ]
  },
  {
   "cell_type": "code",
   "execution_count": 27,
   "metadata": {},
   "outputs": [
    {
     "name": "stdout",
     "output_type": "stream",
     "text": [
      "tensor([[0., 1., 2.],\n",
      "        [3., 4., 5.],\n",
      "        [6., 7., 8.]]) \n",
      "\n",
      "tensor([[0., 0., 0., 0., 0.],\n",
      "        [0., 0., 1., 2., 0.],\n",
      "        [0., 3., 4., 5., 0.],\n",
      "        [0., 6., 7., 8., 0.],\n",
      "        [0., 0., 0., 0., 0.]]) \n",
      "\n"
     ]
    }
   ],
   "source": [
    "X = torch.tensor([[0.0, 1.0, 2.0], [3.0, 4.0, 5.0], [6.0, 7.0, 8.0]])\n",
    "print(X, \"\\n\")\n",
    "X_pad = torch.zeros((X.shape[0] + 2, X.shape[1] + 2))\n",
    "X_pad[1:-1, 1:-1] = X\n",
    "print(X_pad, \"\\n\")\n"
   ]
  },
  {
   "cell_type": "markdown",
   "metadata": {},
   "source": [
    "### Stride ou Pulos nas Convoluções:"
   ]
  },
  {
   "attachments": {
    "image.png": {
     "image/png": "[encoded data removed]"
    }
   },
   "cell_type": "markdown",
   "metadata": {},
   "source": [
    "Em alguns modelos, a movimentação do *kernel* pode incluir alguns saltos, ou seja, ao invés de avançar 1 casa horizontalmente e depois 1 verticalmente, esse número por ser alterado:\n",
    "\n",
    "![image.png](attachment:image.png)"
   ]
  },
  {
   "cell_type": "markdown",
   "metadata": {},
   "source": [
    "O tamanho do resultado é:\n",
    "$$\n",
    "altura_{saida} = (\\lfloor (altura_{entrada} - altura_{kernel} + altura_{padding} + altura_{stride}) / altura_{stride} \\rfloor )\n",
    "\\newline\n",
    "largura_{saida} = (\\lfloor (largura_{entrada} - largura_{kernel} + largura_{padding} + largura_{stride}) / largura_{stride} \\rfloor )\n",
    "$$\n",
    "\n"
   ]
  },
  {
   "cell_type": "markdown",
   "metadata": {},
   "source": [
    "### Múltiplos Canais na Entrada:"
   ]
  },
  {
   "cell_type": "markdown",
   "metadata": {},
   "source": [
    "Quando a imagem de entrada tem mais de um canal, imagine que ela tem mais de 2 dimensões apenas, precisamos levar isso em conta. "
   ]
  }
 ],
 "metadata": {
  "kernelspec": {
   "display_name": "d2l",
   "language": "python",
   "name": "python3"
  },
  "language_info": {
   "codemirror_mode": {
    "name": "ipython",
    "version": 3
   },
   "file_extension": ".py",
   "mimetype": "text/x-python",
   "name": "python",
   "nbconvert_exporter": "python",
   "pygments_lexer": "ipython3",
   "version": "3.8.19"
  }
 },
 "nbformat": 4,
 "nbformat_minor": 2
}
