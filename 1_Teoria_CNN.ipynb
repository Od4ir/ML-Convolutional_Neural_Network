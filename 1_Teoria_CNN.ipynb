{
 "cells": [
  {
   "cell_type": "code",
   "execution_count": null,
   "metadata": {},
   "outputs": [],
   "source": []
  },
  {
   "cell_type": "markdown",
   "metadata": {},
   "source": [
    "# Redes Neurais Vonvolucionais - Teoria"
   ]
  },
  {
   "cell_type": "markdown",
   "metadata": {},
   "source": [
    "As Redes Neurais Convolucionais tem como principal objetivo lidar com imagens de uma forma que outros modelos, que um modelo como **MLP** (*Multi Layer Perceptron*) não consegue lidar de forma eficiente. "
   ]
  },
  {
   "cell_type": "markdown",
   "metadata": {},
   "source": [
    "Imagine a tarefa de identificar um objeto em uma imagem. Nessa tarefa, a posição do objeto não deve influenciar na identificação, nem seu tamanho, nem outros atributos semelhantes a estes. Nesse contexto, as CNNs envolvem varrer a imagem e atribuir a cada pedaço da imagem analisado uma probabilidade de o objeto estar naquele pedaço. "
   ]
  },
  {
   "cell_type": "markdown",
   "metadata": {},
   "source": [
    "Vamos representar a imagem por $X$ e as representações ocultas por $H$. Com a seguinte notação: $X_{ij}$ e $H_{ij}$ representam o pixel da imagem $X$ e da representação $H$ na posição $(i, j)$. "
   ]
  },
  {
   "cell_type": "markdown",
   "metadata": {},
   "source": [
    "Cada pixel da representação da camada oculta, $H$, é resultado da combinação linear de todos os pixels da imagem $X$, de acordo com a seguinte fórmula abaixo (considerando que $U$ é o *bias*):\n",
    "\n",
    "$$H_{i,j} = U_{i,j} + \\sum_{k} \\sum_{l} W_{i,j,k,l} * X_{k,l}$$\n",
    "\n",
    "Imagine que a dimensão das imagens é a seguinte: $X \\in \\mathbb{R}^{n*n}$\n",
    "\n",
    "$$H_{i,j} = U_{i,j} + \\sum_{k} (W_{i,j,k,1} * X_{k,1} + W_{i,j,k,2} * X_{k,2} + \\dots + W_{i,j,k,n} * X_{k,n} )$$"
   ]
  },
  {
   "cell_type": "markdown",
   "metadata": {},
   "source": []
  }
 ],
 "metadata": {
  "language_info": {
   "name": "python"
  }
 },
 "nbformat": 4,
 "nbformat_minor": 2
}
